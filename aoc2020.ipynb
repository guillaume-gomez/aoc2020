{
 "cells": [
  {
   "cell_type": "markdown",
   "metadata": {},
   "source": [
    "# Advent of Code 2020"
   ]
  },
  {
   "cell_type": "markdown",
   "metadata": {},
   "source": [
    "## Day 1"
   ]
  },
  {
   "cell_type": "code",
   "execution_count": null,
   "metadata": {},
   "outputs": [],
   "source": [
    "from csv import reader\n",
    "\n",
    "with open(\"d01.csv\") as expense_report_file:\n",
    "    expense_report = [int(n[0]) for n in reader(expense_report_file)]"
   ]
  },
  {
   "cell_type": "code",
   "execution_count": null,
   "metadata": {},
   "outputs": [],
   "source": [
    "# 1-1\n",
    "def day1_1():\n",
    "    for i in expense_report:\n",
    "        if 2020-i in expense_report:\n",
    "            return(i*(2020-i))\n",
    "print(day1_1())"
   ]
  },
  {
   "cell_type": "code",
   "execution_count": null,
   "metadata": {},
   "outputs": [],
   "source": [
    "# 1-2\n",
    "def day1_2():\n",
    "    for i in expense_report:\n",
    "        for j in expense_report:\n",
    "            if (2020-i-j in expense_report\n",
    "                    and i != j):\n",
    "                return(i*j*(2020-i-j))\n",
    "print(day1_2())"
   ]
  },
  {
   "cell_type": "markdown",
   "metadata": {},
   "source": [
    "## Day 2"
   ]
  },
  {
   "cell_type": "code",
   "execution_count": null,
   "metadata": {},
   "outputs": [],
   "source": [
    "!sed -e 's,:,,g' -e 's/ /,/g' -e 's/-/,/g' d02.txt > d02.csv"
   ]
  },
  {
   "cell_type": "code",
   "execution_count": null,
   "metadata": {},
   "outputs": [],
   "source": [
    "def countCharOccurrence(char, string):\n",
    "    count = 0\n",
    "    for s in string:\n",
    "        if s == char:\n",
    "            count += 1\n",
    "            \n",
    "    return count"
   ]
  },
  {
   "cell_type": "code",
   "execution_count": null,
   "metadata": {},
   "outputs": [],
   "source": [
    "from csv import DictReader\n",
    "\n",
    "dr = DictReader(open(\"d02.csv\"), fieldnames=['min', 'max', 'char', 'pass'])\n",
    "\n",
    "valid_passwords = [\n",
    "    d\n",
    "    for d in dr\n",
    "    if (int(d[\"min\"]) <= countCharOccurrence(d[\"char\"], d[\"pass\"]) <= int(d[\"max\"]))\n",
    "]\n",
    "len(valid_passwords)"
   ]
  }
 ],
 "metadata": {
  "kernelspec": {
   "display_name": "Python 3",
   "language": "python",
   "name": "python3"
  },
  "language_info": {
   "codemirror_mode": {
    "name": "ipython",
    "version": 3
   },
   "file_extension": ".py",
   "mimetype": "text/x-python",
   "name": "python",
   "nbconvert_exporter": "python",
   "pygments_lexer": "ipython3",
   "version": "3.7.3"
  }
 },
 "nbformat": 4,
 "nbformat_minor": 4
}
