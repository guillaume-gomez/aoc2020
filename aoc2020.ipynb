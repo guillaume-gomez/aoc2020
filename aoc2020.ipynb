{
 "cells": [
  {
   "cell_type": "markdown",
   "metadata": {},
   "source": [
    "# Advent of Code 2020"
   ]
  },
  {
   "cell_type": "markdown",
   "metadata": {},
   "source": [
    "## Day 1"
   ]
  },
  {
   "cell_type": "code",
   "execution_count": null,
   "metadata": {},
   "outputs": [],
   "source": [
    "from csv import reader\n",
    "\n",
    "with open(\"d01.csv\") as expense_report_file:\n",
    "    expense_report = [int(n[0]) for n in reader(expense_report_file)]"
   ]
  },
  {
   "cell_type": "code",
   "execution_count": null,
   "metadata": {},
   "outputs": [],
   "source": [
    "# 1-1\n",
    "first_operands = [n for n in expense_report if n <= 1010]\n",
    "second_operands = [n for n in expense_report if n > 1010]\n",
    "\n",
    "for i in first_operands:\n",
    "    for j in second_operands:\n",
    "        if i+j == 2020:\n",
    "            print(f\"{i}+{j} = {i+j}, {i}*{j} = {i*j}\")        "
   ]
  },
  {
   "cell_type": "code",
   "execution_count": null,
   "metadata": {},
   "outputs": [],
   "source": [
    "# 1-2\n",
    "for i in expense_report:\n",
    "    for j in filter(lambda x: x != i, expense_report):\n",
    "            for k in filter(lambda x: x != i or x != j, expense_report):\n",
    "                if i+j+k == 2020:\n",
    "                    print(f\"{i}+{j}+{k} = {i+j+k}, {i}*{j}*{k} = {i*j*k}\")"
   ]
  },
  {
   "cell_type": "markdown",
   "metadata": {},
   "source": [
    "## Day 2"
   ]
  }
 ],
 "metadata": {
  "kernelspec": {
   "display_name": "Python 3",
   "language": "python",
   "name": "python3"
  },
  "language_info": {
   "codemirror_mode": {
    "name": "ipython",
    "version": 3
   },
   "file_extension": ".py",
   "mimetype": "text/x-python",
   "name": "python",
   "nbconvert_exporter": "python",
   "pygments_lexer": "ipython3",
   "version": "3.7.3"
  }
 },
 "nbformat": 4,
 "nbformat_minor": 4
}
