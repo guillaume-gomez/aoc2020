{
 "cells": [
  {
   "cell_type": "markdown",
   "metadata": {},
   "source": [
    "# Advent of Code 2020"
   ]
  },
  {
   "cell_type": "markdown",
   "metadata": {},
   "source": [
    "## Day 1"
   ]
  },
  {
   "cell_type": "code",
   "execution_count": null,
   "metadata": {},
   "outputs": [],
   "source": [
    "from csv import reader\n",
    "\n",
    "with open(\"d01.csv\") as expense_report_file:\n",
    "    expense_report = [int(n[0]) for n in reader(expense_report_file)]"
   ]
  },
  {
   "cell_type": "code",
   "execution_count": null,
   "metadata": {},
   "outputs": [],
   "source": [
    "# 1-1\n",
    "def day1_1():\n",
    "    for i in expense_report:\n",
    "        if 2020-i in expense_report:\n",
    "            return(i*(2020-i))\n",
    "print(day1_1())"
   ]
  },
  {
   "cell_type": "code",
   "execution_count": null,
   "metadata": {},
   "outputs": [],
   "source": [
    "# 1-2\n",
    "def day1_2():\n",
    "    for i in expense_report:\n",
    "        for j in expense_report:\n",
    "            if (2020-i-j in expense_report\n",
    "                    and i != j):\n",
    "                return(i*j*(2020-i-j))\n",
    "print(day1_2())"
   ]
  },
  {
   "cell_type": "markdown",
   "metadata": {},
   "source": [
    "## Day 2"
   ]
  },
  {
   "cell_type": "code",
   "execution_count": null,
   "metadata": {},
   "outputs": [],
   "source": [
    "# input formatting\n",
    "!sed -e 's,:,,g' -e 's/ /,/g' -e 's/-/,/g' d02.txt > d02.csv\n",
    "\n",
    "from csv import DictReader\n",
    "from pprint import pprint as pp\n",
    "\n",
    "password_entries = list(DictReader(open(\"d02.csv\"), fieldnames=['min', 'max', 'char', 'pass']))\n",
    "for entry in password_entries:\n",
    "    entry[\"min\"] = int(entry[\"min\"])\n",
    "    entry[\"max\"] = int(entry[\"max\"])"
   ]
  },
  {
   "cell_type": "code",
   "execution_count": null,
   "metadata": {},
   "outputs": [],
   "source": [
    "# 2-1\n",
    "len(list(filter(lambda x: x[\"min\"] <= x[\"pass\"].count(x[\"char\"]) <= x[\"max\"], password_entries)))"
   ]
  },
  {
   "cell_type": "code",
   "execution_count": null,
   "metadata": {},
   "outputs": [],
   "source": [
    "# 2-2\n",
    "def is_password_valid(entry):\n",
    "    valid_positions = set((entry[\"min\"], entry[\"max\"]))\n",
    "    actual_positions = set((\n",
    "        i+1\n",
    "        for i in range(0, len(entry[\"pass\"]))\n",
    "        if entry[\"pass\"][i] == entry[\"char\"]))\n",
    "    return(len(valid_positions.intersection(actual_positions)) == 1)\n",
    "\n",
    "len(list(filter(lambda x: is_password_valid(x), password_entries)))"
   ]
  },
  {
   "cell_type": "markdown",
   "metadata": {},
   "source": [
    "## Day 3"
   ]
  },
  {
   "cell_type": "code",
   "execution_count": 38,
   "metadata": {},
   "outputs": [],
   "source": [
    "# input formatting\n",
    "biome = []\n",
    "with open(\"d03.txt\") as biome_file:\n",
    "    for line in biome_file.read().split(\"\\n\"):\n",
    "        biome.append(line*100)\n",
    "    biome.pop()"
   ]
  },
  {
   "cell_type": "code",
   "execution_count": 39,
   "metadata": {},
   "outputs": [
    {
     "data": {
      "text/plain": [
       "159"
      ]
     },
     "execution_count": 39,
     "metadata": {},
     "output_type": "execute_result"
    }
   ],
   "source": [
    "# 3-1\n",
    "trees_in_path = 0\n",
    "for l in range(1, 323):\n",
    "    if biome[l][l*3] == '#':\n",
    "        trees_in_path += 1\n",
    "trees_in_path"
   ]
  },
  {
   "cell_type": "code",
   "execution_count": 40,
   "metadata": {},
   "outputs": [],
   "source": [
    "# 3-2\n",
    "def check_slopes(biome, move_right, move_down):\n",
    "    trees_in_path = 0\n",
    "    for x in range(move_down, len(biome), move_down):\n",
    "        if biome[x][x*move_right] == '#':\n",
    "            trees_in_path += 1\n",
    "    return trees_in_path"
   ]
  },
  {
   "cell_type": "code",
   "execution_count": 41,
   "metadata": {},
   "outputs": [
    {
     "data": {
      "text/plain": [
       "159"
      ]
     },
     "execution_count": 41,
     "metadata": {},
     "output_type": "execute_result"
    }
   ],
   "source": [
    "check_slopes(biome, 3, 1)"
   ]
  },
  {
   "cell_type": "code",
   "execution_count": 42,
   "metadata": {},
   "outputs": [
    {
     "data": {
      "text/plain": [
       "37"
      ]
     },
     "execution_count": 42,
     "metadata": {},
     "output_type": "execute_result"
    }
   ],
   "source": [
    "check_slopes(biome, 1, 2)"
   ]
  },
  {
   "cell_type": "code",
   "execution_count": 50,
   "metadata": {},
   "outputs": [
    {
     "data": {
      "text/plain": [
       "55"
      ]
     },
     "execution_count": 50,
     "metadata": {},
     "output_type": "execute_result"
    }
   ],
   "source": [
    "# 3-1 - 1, 2\n",
    "trees_in_path = 0\n",
    "for l in range(2, 323, 2):\n",
    "    if biome[l][l//2] == '#':\n",
    "        trees_in_path += 1\n",
    "trees_in_path\n",
    "# ligne 3 case 2\n",
    "# ligne 5 case 3\n",
    "# ligne 7 case 4\n",
    "# ligne 9 case 5\n",
    "# ligne 11 case 6\n",
    "# ligne 13 case 7\n",
    "\n",
    "# c*2-1 = l\n",
    "\n",
    "# c = l+1/2"
   ]
  },
  {
   "cell_type": "code",
   "execution_count": 49,
   "metadata": {},
   "outputs": [
    {
     "data": {
      "text/plain": [
       "2"
      ]
     },
     "execution_count": 49,
     "metadata": {},
     "output_type": "execute_result"
    }
   ],
   "source": [
    "4//2"
   ]
  },
  {
   "cell_type": "code",
   "execution_count": 51,
   "metadata": {},
   "outputs": [
    {
     "data": {
      "text/plain": [
       "6419669520"
      ]
     },
     "execution_count": 51,
     "metadata": {},
     "output_type": "execute_result"
    }
   ],
   "source": [
    "check_slopes(biome, 1, 1) \\\n",
    "* check_slopes(biome, 3, 1) \\\n",
    "* check_slopes(biome, 5, 1) \\\n",
    "* check_slopes(biome, 7, 1) \\\n",
    "* 55"
   ]
  }
 ],
 "metadata": {
  "kernelspec": {
   "display_name": "Python 3",
   "language": "python",
   "name": "python3"
  },
  "language_info": {
   "codemirror_mode": {
    "name": "ipython",
    "version": 3
   },
   "file_extension": ".py",
   "mimetype": "text/x-python",
   "name": "python",
   "nbconvert_exporter": "python",
   "pygments_lexer": "ipython3",
   "version": "3.7.3"
  }
 },
 "nbformat": 4,
 "nbformat_minor": 4
}
