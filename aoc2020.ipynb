{
 "cells": [
  {
   "cell_type": "markdown",
   "metadata": {},
   "source": [
    "# Advent of Code 2020"
   ]
  },
  {
   "cell_type": "code",
   "execution_count": 1,
   "metadata": {},
   "outputs": [],
   "source": [
    "from csv import DictReader, reader\n",
    "from json import dump\n",
    "from pprint import pprint\n",
    "from re import match, split"
   ]
  },
  {
   "cell_type": "markdown",
   "metadata": {},
   "source": [
    "## Day 1"
   ]
  },
  {
   "cell_type": "code",
   "execution_count": 2,
   "metadata": {},
   "outputs": [],
   "source": [
    "# input formatting\n",
    "expense_report = [int(n[0]) for n in reader(open(\"d01/d01.csv\"))]"
   ]
  },
  {
   "cell_type": "code",
   "execution_count": 3,
   "metadata": {},
   "outputs": [],
   "source": [
    "dump(expense_report, open(\"d01/d01.json\", \"wt\"), indent=1)"
   ]
  },
  {
   "cell_type": "code",
   "execution_count": 4,
   "metadata": {},
   "outputs": [
    {
     "name": "stdout",
     "output_type": "stream",
     "text": [
      "618144\n"
     ]
    }
   ],
   "source": [
    "# 1-1\n",
    "def day1_1():\n",
    "    for i in expense_report:\n",
    "        if 2020-i in expense_report:\n",
    "            return(i*(2020-i))\n",
    "print(day1_1())"
   ]
  },
  {
   "cell_type": "code",
   "execution_count": 5,
   "metadata": {},
   "outputs": [
    {
     "name": "stdout",
     "output_type": "stream",
     "text": [
      "173538720\n"
     ]
    }
   ],
   "source": [
    "# 1-2\n",
    "def day1_2():\n",
    "    for i in expense_report:\n",
    "        for j in expense_report:\n",
    "            if (2020-i-j in expense_report\n",
    "                    and i != j):\n",
    "                return(i*j*(2020-i-j))\n",
    "print(day1_2())"
   ]
  },
  {
   "cell_type": "markdown",
   "metadata": {},
   "source": [
    "## Day 2"
   ]
  },
  {
   "cell_type": "code",
   "execution_count": 6,
   "metadata": {},
   "outputs": [
    {
     "name": "stdout",
     "output_type": "stream",
     "text": [
      "sed: impossible de lire d02.txt: Aucun fichier ou dossier de ce type\n"
     ]
    }
   ],
   "source": [
    "# input formatting\n",
    "!sed -e 's/://g' -e 's/[ -]/,/g' d02.txt > d02.csv\n",
    "\n",
    "password_entries = list(DictReader(open(\"d02/d02.csv\"), fieldnames=['min', 'max', 'char', 'pass']))\n",
    "for entry in password_entries:\n",
    "    entry[\"min\"] = int(entry[\"min\"])\n",
    "    entry[\"max\"] = int(entry[\"max\"])"
   ]
  },
  {
   "cell_type": "code",
   "execution_count": 7,
   "metadata": {},
   "outputs": [],
   "source": [
    "dump(password_entries, open(\"d02/d02.json\", \"wt\"), indent=1)"
   ]
  },
  {
   "cell_type": "code",
   "execution_count": 8,
   "metadata": {},
   "outputs": [
    {
     "data": {
      "text/plain": [
       "546"
      ]
     },
     "execution_count": 8,
     "metadata": {},
     "output_type": "execute_result"
    }
   ],
   "source": [
    "# 2-1\n",
    "len(list(filter(lambda x: x[\"min\"] <= x[\"pass\"].count(x[\"char\"]) <= x[\"max\"], password_entries)))"
   ]
  },
  {
   "cell_type": "code",
   "execution_count": 9,
   "metadata": {},
   "outputs": [
    {
     "data": {
      "text/plain": [
       "275"
      ]
     },
     "execution_count": 9,
     "metadata": {},
     "output_type": "execute_result"
    }
   ],
   "source": [
    "# 2-2\n",
    "def is_password_valid(entry):\n",
    "    valid_positions = set((entry[\"min\"], entry[\"max\"]))\n",
    "    actual_positions = set((\n",
    "        i+1\n",
    "        for i in range(0, len(entry[\"pass\"]))\n",
    "        if entry[\"pass\"][i] == entry[\"char\"]))\n",
    "    return(len(valid_positions.intersection(actual_positions)) == 1)\n",
    "\n",
    "len(list(filter(lambda x: is_password_valid(x), password_entries)))"
   ]
  },
  {
   "cell_type": "markdown",
   "metadata": {},
   "source": [
    "## Day 3"
   ]
  },
  {
   "cell_type": "code",
   "execution_count": 10,
   "metadata": {},
   "outputs": [],
   "source": [
    "# input formatting\n",
    "biome = []\n",
    "with open(\"d03/d03.txt\") as biome_file:\n",
    "    for line in biome_file.read().split(\"\\n\"):\n",
    "        biome.append(line*100)  # TODO dirty trick\n",
    "    biome.pop()"
   ]
  },
  {
   "cell_type": "code",
   "execution_count": 11,
   "metadata": {},
   "outputs": [],
   "source": [
    "dump(biome, open(\"d03/d03.json\", \"wt\"), indent=1)"
   ]
  },
  {
   "cell_type": "code",
   "execution_count": 12,
   "metadata": {},
   "outputs": [
    {
     "data": {
      "text/plain": [
       "159"
      ]
     },
     "execution_count": 12,
     "metadata": {},
     "output_type": "execute_result"
    }
   ],
   "source": [
    "# 3-1\n",
    "trees_in_path = 0\n",
    "for l in range(1, 323):\n",
    "    if biome[l][l*3] == '#':\n",
    "        trees_in_path += 1\n",
    "trees_in_path"
   ]
  },
  {
   "cell_type": "code",
   "execution_count": 13,
   "metadata": {},
   "outputs": [],
   "source": [
    "# 3-2\n",
    "def check_slopes(biome, move_right, move_down):\n",
    "    trees_in_path = 0\n",
    "    for x in range(move_down, len(biome), move_down):\n",
    "        if biome[x][x//move_down*move_right] == '#':\n",
    "            trees_in_path += 1\n",
    "    return trees_in_path"
   ]
  },
  {
   "cell_type": "code",
   "execution_count": 14,
   "metadata": {},
   "outputs": [
    {
     "data": {
      "text/plain": [
       "6419669520"
      ]
     },
     "execution_count": 14,
     "metadata": {},
     "output_type": "execute_result"
    }
   ],
   "source": [
    "check_slopes(biome, 1, 1) \\\n",
    "* check_slopes(biome, 3, 1) \\\n",
    "* check_slopes(biome, 5, 1) \\\n",
    "* check_slopes(biome, 7, 1) \\\n",
    "* check_slopes(biome, 1, 2)  # 55"
   ]
  },
  {
   "cell_type": "markdown",
   "metadata": {},
   "source": [
    "## Day 4"
   ]
  },
  {
   "cell_type": "code",
   "execution_count": 15,
   "metadata": {},
   "outputs": [],
   "source": [
    "# input formatting\n",
    "passports = []\n",
    "for raw_passport in map(\n",
    "        lambda x: split('\\s', x ),\n",
    "        split('\\n\\n', open(\"d04/d04.txt\").read())):\n",
    "    passports.append({\n",
    "        k: v\n",
    "        for k, v in (field_string.split(':')\n",
    "                     for field_string in raw_passport\n",
    "                     if len(field_string) != 0)  # last carriage return at EOL\n",
    "    })"
   ]
  },
  {
   "cell_type": "code",
   "execution_count": 16,
   "metadata": {},
   "outputs": [],
   "source": [
    "dump(passports, open(\"d04/d04.json\", \"wt\"), indent=1)"
   ]
  },
  {
   "cell_type": "code",
   "execution_count": 17,
   "metadata": {},
   "outputs": [
    {
     "data": {
      "text/plain": [
       "237"
      ]
     },
     "execution_count": 17,
     "metadata": {},
     "output_type": "execute_result"
    }
   ],
   "source": [
    "# 4-1\n",
    "len([\n",
    "    p for p in passports\n",
    "    if len(p) == 8\n",
    "    or (len(p) == 7 and 'cid' not in p)\n",
    "])"
   ]
  },
  {
   "cell_type": "code",
   "execution_count": 18,
   "metadata": {},
   "outputs": [
    {
     "data": {
      "text/plain": [
       "172"
      ]
     },
     "execution_count": 18,
     "metadata": {},
     "output_type": "execute_result"
    }
   ],
   "source": [
    "# 4-2\n",
    "def check_height(h):\n",
    "    if h[-2:] == 'cm':\n",
    "        return 150 <= int(h.replace('cm', '')) <= 193\n",
    "    elif h[-2:] == 'in':\n",
    "        return 59 <= int(h.replace('in', '')) <= 76\n",
    "    else:\n",
    "        return False\n",
    "\n",
    "len([\n",
    "    p for p in passports\n",
    "    if (len(p) == 8 or (len(p) == 7 and 'cid' not in p))  # same as 4-1\n",
    "    and 1920 <= int(p[\"byr\"]) <= 2002\n",
    "    and 2010 <= int(p[\"iyr\"]) <= 2020\n",
    "    and 2020 <= int(p[\"eyr\"]) <= 2030\n",
    "    and check_height(p[\"hgt\"])\n",
    "    and match(\"^#[0-9a-f]{6}$\", p[\"hcl\"])\n",
    "    and p[\"ecl\"] in {\"amb\", \"blu\", \"brn\", \"gry\", \"grn\", \"hzl\", \"oth\"}\n",
    "    and match(\"^[0-9]{9}$\", p[\"pid\"])\n",
    "])"
   ]
  }
 ],
 "metadata": {
  "kernelspec": {
   "display_name": "Python 3",
   "language": "python",
   "name": "python3"
  },
  "language_info": {
   "codemirror_mode": {
    "name": "ipython",
    "version": 3
   },
   "file_extension": ".py",
   "mimetype": "text/x-python",
   "name": "python",
   "nbconvert_exporter": "python",
   "pygments_lexer": "ipython3",
   "version": "3.7.3"
  }
 },
 "nbformat": 4,
 "nbformat_minor": 4
}
