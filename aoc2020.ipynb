{
 "cells": [
  {
   "cell_type": "markdown",
   "metadata": {},
   "source": [
    "# Advent of Code 2020"
   ]
  },
  {
   "cell_type": "markdown",
   "metadata": {},
   "source": [
    "## Day 1"
   ]
  },
  {
   "cell_type": "code",
   "execution_count": null,
   "metadata": {},
   "outputs": [],
   "source": [
    "from csv import reader\n",
    "\n",
    "with open(\"d01.csv\") as expense_report_file:\n",
    "    expense_report = [int(n[0]) for n in reader(expense_report_file)]"
   ]
  },
  {
   "cell_type": "code",
   "execution_count": null,
   "metadata": {},
   "outputs": [],
   "source": [
    "# 1-1\n",
    "def day1_1():\n",
    "    for i in expense_report:\n",
    "        if 2020-i in expense_report:\n",
    "            return(i*(2020-i))\n",
    "print(day1_1())"
   ]
  },
  {
   "cell_type": "code",
   "execution_count": null,
   "metadata": {},
   "outputs": [],
   "source": [
    "# 1-2\n",
    "def day1_2():\n",
    "    for i in expense_report:\n",
    "        for j in expense_report:\n",
    "            if (2020-i-j in expense_report\n",
    "                    and i != j):\n",
    "                return(i*j*(2020-i-j))\n",
    "print(day1_2())"
   ]
  },
  {
   "cell_type": "markdown",
   "metadata": {},
   "source": [
    "## Day 2"
   ]
  },
  {
   "cell_type": "code",
   "execution_count": null,
   "metadata": {},
   "outputs": [],
   "source": [
    "# input formatting\n",
    "!sed -e 's,:,,g' -e 's/ /,/g' -e 's/-/,/g' d02.txt > d02.csv\n",
    "\n",
    "from csv import DictReader\n",
    "from pprint import pprint as pp\n",
    "\n",
    "password_entries = list(DictReader(open(\"d02.csv\"), fieldnames=['min', 'max', 'char', 'pass']))\n",
    "for entry in password_entries:\n",
    "    entry[\"min\"] = int(entry[\"min\"])\n",
    "    entry[\"max\"] = int(entry[\"max\"])"
   ]
  },
  {
   "cell_type": "code",
   "execution_count": null,
   "metadata": {},
   "outputs": [],
   "source": [
    "# 2-1\n",
    "len(list(filter(lambda x: x[\"min\"] <= x[\"pass\"].count(x[\"char\"]) <= x[\"max\"], password_entries)))"
   ]
  },
  {
   "cell_type": "code",
   "execution_count": null,
   "metadata": {},
   "outputs": [],
   "source": [
    "# 2-2\n",
    "def is_password_valid(entry):\n",
    "    valid_positions = set((entry[\"min\"], entry[\"max\"]))\n",
    "    actual_positions = set((\n",
    "        i+1\n",
    "        for i in range(0, len(entry[\"pass\"]))\n",
    "        if entry[\"pass\"][i] == entry[\"char\"]))\n",
    "    return(len(valid_positions.intersection(actual_positions)) == 1)\n",
    "\n",
    "len(list(filter(lambda x: is_password_valid(x), password_entries)))"
   ]
  },
  {
   "cell_type": "markdown",
   "metadata": {},
   "source": [
    "## Day 3"
   ]
  },
  {
   "cell_type": "code",
   "execution_count": 1,
   "metadata": {},
   "outputs": [],
   "source": [
    "# input formatting\n",
    "biome = []\n",
    "with open(\"d03.txt\") as biome_file:\n",
    "    for line in biome_file.read().split(\"\\n\"):\n",
    "        biome.append(line*100)\n",
    "    biome.pop()"
   ]
  },
  {
   "cell_type": "code",
   "execution_count": 27,
   "metadata": {},
   "outputs": [
    {
     "data": {
      "text/plain": [
       "159"
      ]
     },
     "execution_count": 27,
     "metadata": {},
     "output_type": "execute_result"
    }
   ],
   "source": [
    "# 3-1\n",
    "trees_in_path = 0\n",
    "for l in range(1, 323):\n",
    "    if biome[l][l*3] == '#':\n",
    "        trees_in_path += 1\n",
    "trees_in_path"
   ]
  },
  {
   "cell_type": "code",
   "execution_count": 22,
   "metadata": {},
   "outputs": [],
   "source": [
    "# 3-2\n",
    "def check_slopes(biome, move_right, move_down):\n",
    "    trees_in_path = 0\n",
    "    for x in range(move_down, len(biome), move_down):\n",
    "        if biome[x][x*move_right] == '#':\n",
    "            trees_in_path += 1\n",
    "    return trees_in_path"
   ]
  },
  {
   "cell_type": "code",
   "execution_count": 23,
   "metadata": {},
   "outputs": [
    {
     "data": {
      "text/plain": [
       "159"
      ]
     },
     "execution_count": 23,
     "metadata": {},
     "output_type": "execute_result"
    }
   ],
   "source": [
    "check_slopes(biome, 3, 1)"
   ]
  },
  {
   "cell_type": "code",
   "execution_count": 25,
   "metadata": {},
   "outputs": [
    {
     "data": {
      "text/plain": [
       "4318686768"
      ]
     },
     "execution_count": 25,
     "metadata": {},
     "output_type": "execute_result"
    }
   ],
   "source": [
    "check_slopes(biome, 1, 1) \\\n",
    "* check_slopes(biome, 3, 1) \\\n",
    "* check_slopes(biome, 5, 1) \\\n",
    "* check_slopes(biome, 7, 1) \\\n",
    "* check_slopes(biome, 1, 2)"
   ]
  },
  {
   "cell_type": "code",
   "execution_count": 28,
   "metadata": {},
   "outputs": [
    {
     "data": {
      "text/plain": [
       "37"
      ]
     },
     "execution_count": 28,
     "metadata": {},
     "output_type": "execute_result"
    }
   ],
   "source": [
    "check_slopes(biome, 1, 2)"
   ]
  }
 ],
 "metadata": {
  "kernelspec": {
   "display_name": "Python 3",
   "language": "python",
   "name": "python3"
  },
  "language_info": {
   "codemirror_mode": {
    "name": "ipython",
    "version": 3
   },
   "file_extension": ".py",
   "mimetype": "text/x-python",
   "name": "python",
   "nbconvert_exporter": "python",
   "pygments_lexer": "ipython3",
   "version": "3.7.3"
  }
 },
 "nbformat": 4,
 "nbformat_minor": 4
}
