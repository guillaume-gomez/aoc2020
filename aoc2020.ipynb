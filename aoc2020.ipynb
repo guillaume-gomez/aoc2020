{
 "cells": [
  {
   "cell_type": "markdown",
   "metadata": {},
   "source": [
    "# Advent of Code 2020"
   ]
  },
  {
   "cell_type": "markdown",
   "metadata": {},
   "source": [
    "## Day 1"
   ]
  },
  {
   "cell_type": "code",
   "execution_count": 9,
   "metadata": {},
   "outputs": [],
   "source": [
    "from csv import reader\n",
    "\n",
    "with open(\"d01.csv\") as expense_report_file:\n",
    "    expense_report = [int(n[0]) for n in reader(expense_report_file)]"
   ]
  },
  {
   "cell_type": "markdown",
   "metadata": {},
   "source": [
    "## Day 1"
   ]
  },
  {
   "cell_type": "code",
   "execution_count": 18,
   "metadata": {},
   "outputs": [
    {
     "name": "stdout",
     "output_type": "stream",
     "text": [
      "376+1644 = 2020, 376*1644 = 618144\n",
      "1644+376 = 2020, 1644*376 = 618144\n"
     ]
    }
   ],
   "source": [
    "# 1-1\n",
    "for i in expense_report:\n",
    "    for j in filter(lambda x: x != i, expense_report):\n",
    "        if i+j == 2020:\n",
    "            print(f\"{i}+{j} = {i+j}, {i}*{j} = {i*j}\")"
   ]
  },
  {
   "cell_type": "code",
   "execution_count": 19,
   "metadata": {},
   "outputs": [
    {
     "name": "stdout",
     "output_type": "stream",
     "text": [
      "289+480+1251 = 2020, 289*480*1251 = 173538720\n",
      "289+1251+480 = 2020, 289*1251*480 = 173538720\n",
      "480+289+1251 = 2020, 480*289*1251 = 173538720\n",
      "480+1251+289 = 2020, 480*1251*289 = 173538720\n",
      "1251+289+480 = 2020, 1251*289*480 = 173538720\n",
      "1251+480+289 = 2020, 1251*480*289 = 173538720\n"
     ]
    }
   ],
   "source": [
    "# 1-2\n",
    "for i in expense_report:\n",
    "    for j in filter(lambda x: x != i, expense_report):\n",
    "            for k in filter(lambda x: x != i or x != j, expense_report):\n",
    "                if i+j+k == 2020:\n",
    "                    print(f\"{i}+{j}+{k} = {i+j+k}, {i}*{j}*{k} = {i*j*k}\")"
   ]
  },
  {
   "cell_type": "markdown",
   "metadata": {},
   "source": [
    "## Day 2"
   ]
  }
 ],
 "metadata": {
  "kernelspec": {
   "display_name": "Python 3",
   "language": "python",
   "name": "python3"
  },
  "language_info": {
   "codemirror_mode": {
    "name": "ipython",
    "version": 3
   },
   "file_extension": ".py",
   "mimetype": "text/x-python",
   "name": "python",
   "nbconvert_exporter": "python",
   "pygments_lexer": "ipython3",
   "version": "3.7.3"
  }
 },
 "nbformat": 4,
 "nbformat_minor": 4
}
